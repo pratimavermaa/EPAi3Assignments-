{
  "nbformat": 4,
  "nbformat_minor": 0,
  "metadata": {
    "colab": {
      "name": "session9.ipynb",
      "provenance": [],
      "collapsed_sections": []
    },
    "kernelspec": {
      "name": "python3",
      "display_name": "Python 3"
    },
    "language_info": {
      "name": "python"
    }
  },
  "cells": [
    {
      "cell_type": "markdown",
      "metadata": {
        "id": "vMrjUXzbOYx8"
      },
      "source": [
        "# pip install faker\n",
        "calculate \n",
        "    1. largest blood type : count the highest appearing blood group in the faker list\n",
        "    2. mean-current_location : mean on the current location\n",
        "    3. oldest_person_age : old person age in the group form now\n",
        "    4. average age: calculate the age of the person and find the avarage of it"
      ]
    },
    {
      "cell_type": "code",
      "metadata": {
        "id": "Tx0987yPACbn"
      },
      "source": [
        "from collections import namedtuple\n",
        "from faker import Faker\n",
        "import datetime\n",
        "from time import perf_counter\n",
        "from functools import wraps\n",
        "import re\n",
        "import random\n",
        "import string\n",
        "from datetime import date"
      ],
      "execution_count": 63,
      "outputs": []
    },
    {
      "cell_type": "code",
      "metadata": {
        "colab": {
          "base_uri": "https://localhost:8080/"
        },
        "id": "dX56cu-ohVQk",
        "outputId": "65dc9a60-09eb-4a65-8054-2657b0aacb88"
      },
      "source": [
        "fake = Faker()\n",
        "fake.profile()"
      ],
      "execution_count": 56,
      "outputs": [
        {
          "output_type": "execute_result",
          "data": {
            "text/plain": [
              "{'address': '711 Robert Gateway\\nJuarezland, VT 65565',\n",
              " 'birthdate': datetime.date(1955, 1, 25),\n",
              " 'blood_group': 'B+',\n",
              " 'company': 'Marquez LLC',\n",
              " 'current_location': (Decimal('35.744340'), Decimal('59.033111')),\n",
              " 'job': 'Secondary school teacher',\n",
              " 'mail': 'timothygarcia@hotmail.com',\n",
              " 'name': 'Rebecca Reed',\n",
              " 'residence': '1954 Bowman Vista\\nElizabethton, MA 82713',\n",
              " 'sex': 'F',\n",
              " 'ssn': '477-09-6167',\n",
              " 'username': 'ncollins',\n",
              " 'website': ['http://www.andrews.info/',\n",
              "  'http://www.thomas-cline.biz/',\n",
              "  'https://www.perez-werner.com/',\n",
              "  'http://graham.com/']}"
            ]
          },
          "metadata": {
            "tags": []
          },
          "execution_count": 56
        }
      ]
    },
    {
      "cell_type": "code",
      "metadata": {
        "id": "SoljUzYihgvB"
      },
      "source": [
        "Profile = namedtuple('Profile', fake.profile().keys())"
      ],
      "execution_count": 57,
      "outputs": []
    },
    {
      "cell_type": "code",
      "metadata": {
        "id": "BpqJN3FsiiBd"
      },
      "source": [
        "# dir(Profile)"
      ],
      "execution_count": 87,
      "outputs": []
    },
    {
      "cell_type": "code",
      "metadata": {
        "colab": {
          "base_uri": "https://localhost:8080/"
        },
        "id": "xzX5GE45IYUx",
        "outputId": "ded03ac2-c1c8-41d2-d428-b56a56545d8c"
      },
      "source": [
        "Profile._fields"
      ],
      "execution_count": 59,
      "outputs": [
        {
          "output_type": "execute_result",
          "data": {
            "text/plain": [
              "('job',\n",
              " 'company',\n",
              " 'ssn',\n",
              " 'residence',\n",
              " 'current_location',\n",
              " 'blood_group',\n",
              " 'website',\n",
              " 'username',\n",
              " 'name',\n",
              " 'sex',\n",
              " 'address',\n",
              " 'mail',\n",
              " 'birthdate')"
            ]
          },
          "metadata": {
            "tags": []
          },
          "execution_count": 59
        }
      ]
    },
    {
      "cell_type": "code",
      "metadata": {
        "id": "0YHH--f7IiGY"
      },
      "source": [
        "#storing data in nametuple\n",
        "x = Profile(**fake.profile())"
      ],
      "execution_count": 61,
      "outputs": []
    },
    {
      "cell_type": "code",
      "metadata": {
        "colab": {
          "base_uri": "https://localhost:8080/"
        },
        "id": "FNG5To9FI-pi",
        "outputId": "d1bd81b4-b5c3-4289-9ed8-efdcc18a1bbf"
      },
      "source": [
        "x"
      ],
      "execution_count": 62,
      "outputs": [
        {
          "output_type": "execute_result",
          "data": {
            "text/plain": [
              "Profile(job='Sport and exercise psychologist', company='Wilson, Smith and Villarreal', ssn='139-37-2492', residence='5998 Henry Green Apt. 211\\nJonesborough, MT 50381', current_location=(Decimal('-34.064340'), Decimal('53.182687')), blood_group='A-', website=['https://www.smith.info/'], username='flarsen', name='James Logan', sex='M', address='776 Dakota Wells Suite 163\\nWhitestad, DE 69184', mail='theresakim@gmail.com', birthdate=datetime.date(1984, 9, 29))"
            ]
          },
          "metadata": {
            "tags": []
          },
          "execution_count": 62
        }
      ]
    },
    {
      "cell_type": "code",
      "metadata": {
        "id": "t9B_CtrZJaF6"
      },
      "source": [
        "#time function to calculate the run time of a function\n",
        "def timed(func):\n",
        "    @wraps(func)\n",
        "    def wrapper_timed(*args,**kwargs):\n",
        "        start_time = perf_counter()\n",
        "        value = func(*args,**kwargs)\n",
        "        end_time = perf_counter()\n",
        "        elapsed_time = (end_time-start_time)\n",
        "        print('Run time: {0:.6f}s'.format(elapsed_time))\n",
        "        return value\n",
        "    return wrapper_timed"
      ],
      "execution_count": 93,
      "outputs": []
    },
    {
      "cell_type": "code",
      "metadata": {
        "id": "IAuT0XKlHVrI"
      },
      "source": [
        "fake = Faker()\n",
        "\n",
        "def generate_profiles_using_namedtuple(no_profiles: int): \n",
        "    \"\"\"\n",
        "    create a fake profiles using namedtuples\n",
        "    \"\"\"\n",
        "    profiles = []\n",
        "    Profile = namedtuple('Profile', fake.profile().keys())\n",
        "    for i in range(no_profiles):\n",
        "        profiles.append(Profile(**fake.profile()))\n",
        "    return profiles"
      ],
      "execution_count": 65,
      "outputs": []
    },
    {
      "cell_type": "code",
      "metadata": {
        "id": "rbTe-BCGXq1Z"
      },
      "source": [
        "def generate_profiles_using_dictionary(no_profiles: int):\n",
        "    \"\"\"\n",
        "    create a fake profiles using dictornary\n",
        "    \"\"\"\n",
        "    profiles = []\n",
        "    for i in range(no_profiles):\n",
        "        profiles.append(fake.profile())\n",
        "    return profiles"
      ],
      "execution_count": 100,
      "outputs": []
    },
    {
      "cell_type": "code",
      "metadata": {
        "id": "CvzQIHp6IMpX"
      },
      "source": [
        "kk = generate_profiles_using_namedtuple(10)[0:2]"
      ],
      "execution_count": 70,
      "outputs": []
    },
    {
      "cell_type": "code",
      "metadata": {
        "colab": {
          "base_uri": "https://localhost:8080/"
        },
        "id": "CMAU9S6lNrAE",
        "outputId": "e92e4018-c87a-4c63-9a40-746a1938d0fc"
      },
      "source": [
        "kk"
      ],
      "execution_count": 71,
      "outputs": [
        {
          "output_type": "execute_result",
          "data": {
            "text/plain": [
              "[Profile(job='Radio producer', company='Spencer Group', ssn='305-95-9086', residence='647 Olson Plains\\nLisabury, PA 10512', current_location=(Decimal('-44.8718055'), Decimal('-23.564506')), blood_group='A+', website=['https://hansen.com/', 'https://butler.biz/', 'http://www.brown.com/', 'http://miller.com/'], username='sarahwilson', name='Chad Ruiz', sex='M', address='671 Oneill Terrace Suite 891\\nJulieberg, AL 85978', mail='mjames@yahoo.com', birthdate=datetime.date(1927, 2, 2)),\n",
              " Profile(job='Health and safety adviser', company='Gomez PLC', ssn='289-45-5182', residence='11513 Cynthia Dale Suite 628\\nGarciaborough, MS 58337', current_location=(Decimal('41.5761975'), Decimal('-93.569459')), blood_group='B-', website=['https://huerta-nguyen.net/', 'https://www.ramirez.com/', 'http://ortiz.biz/', 'https://jensen.net/'], username='linda95', name='Mr. Joseph Garcia', sex='M', address='58546 Brian Motorway\\nNew Taylor, NH 75083', mail='dianemiller@gmail.com', birthdate=datetime.date(1950, 6, 19))]"
            ]
          },
          "metadata": {
            "tags": []
          },
          "execution_count": 71
        }
      ]
    },
    {
      "cell_type": "code",
      "metadata": {
        "id": "imoubCfVITbe"
      },
      "source": [
        ""
      ],
      "execution_count": 99,
      "outputs": []
    },
    {
      "cell_type": "code",
      "metadata": {
        "id": "WvmSADGUIdDI"
      },
      "source": [
        "# generate_profiles_using_dictionary(5)"
      ],
      "execution_count": 86,
      "outputs": []
    },
    {
      "cell_type": "code",
      "metadata": {
        "id": "yX5c_MBfLnx0"
      },
      "source": [
        ""
      ],
      "execution_count": null,
      "outputs": []
    },
    {
      "cell_type": "code",
      "metadata": {
        "id": "sYstcWV0Lnmb"
      },
      "source": [
        ""
      ],
      "execution_count": null,
      "outputs": []
    },
    {
      "cell_type": "code",
      "metadata": {
        "id": "xi5yvOe5Ie8v"
      },
      "source": [
        "@timed\n",
        "def calc_data_using_namedtuple() -> \"namedtuple\":\n",
        "    \"\"\"\n",
        "    calculate the largest blood type, mean-current_location, \n",
        "    oldest_person_age and average age of a generated 1000 profiles using namedtuple\n",
        "    \"\"\"\n",
        "    no_profiles = 10\n",
        "    profiles = generate_profiles_using_namedtuple(no_profiles)\n",
        "    date_today = datetime.date.today()\n",
        "    blood_gp = dict()\n",
        "    max_age = {'age': 0, 'profile': None}\n",
        "    cur_loc_coord_sum = [0, 0]\n",
        "    sum_ages = 0\n",
        "    for profile in profiles:\n",
        "        blood_gp[profile.blood_group] = blood_gp.get(profile.blood_group,0) + 1\n",
        "        age = (date_today - profile.birthdate).days\n",
        "        if  age > max_age['age']:\n",
        "            max_age['age'] = age\n",
        "            max_age['profile'] = profile\n",
        "        cur_loc_coord_sum[0] += profile.current_location[0]\n",
        "        cur_loc_coord_sum[1] += profile.current_location[1]\n",
        "        sum_ages += int(age/365)\n",
        "\n",
        "    data = namedtuple('data', 'largest_blood_type mean_current_location oldest_person average_age')\n",
        "    bg_l = max(blood_gp, key=blood_gp.get)\n",
        "    mean_current_location = (cur_loc_coord_sum[0]/no_profiles, cur_loc_coord_sum[1]/no_profiles)\n",
        "    return data((bg_l, blood_gp[bg_l]), mean_current_location, (max_age['profile'], int(max_age['age']/365)), int(sum_ages/no_profiles))"
      ],
      "execution_count": 94,
      "outputs": []
    },
    {
      "cell_type": "code",
      "metadata": {
        "colab": {
          "base_uri": "https://localhost:8080/"
        },
        "id": "oUyV_FhPWudl",
        "outputId": "629e92ab-3d2d-4ed4-e37d-89ff7e967f86"
      },
      "source": [
        "calc_data_using_namedtuple()"
      ],
      "execution_count": 95,
      "outputs": [
        {
          "output_type": "stream",
          "text": [
            "Run time: 0.028542s\n"
          ],
          "name": "stdout"
        },
        {
          "output_type": "execute_result",
          "data": {
            "text/plain": [
              "data(largest_blood_type=('B-', 4), mean_current_location=(Decimal('-22.1616343'), Decimal('-4.4899135')), oldest_person=(Profile(job='Environmental consultant', company='Rogers-Thompson', ssn='432-32-4595', residence='8820 Brett Street\\nBryanstad, KS 14482', current_location=(Decimal('-50.2035265'), Decimal('-150.177199')), blood_group='AB-', website=['http://www.berger.biz/', 'https://www.green.biz/'], username='pwatkins', name='David Hudson', sex='M', address='USS Tran\\nFPO AA 28567', mail='mingram@hotmail.com', birthdate=datetime.date(1915, 7, 23)), 106), average_age=69)"
            ]
          },
          "metadata": {
            "tags": []
          },
          "execution_count": 95
        }
      ]
    },
    {
      "cell_type": "code",
      "metadata": {
        "id": "ptzVIq_BRpg6"
      },
      "source": [
        "@timed\n",
        "def calc_data_using_dictionary() -> \"Dictionary\":\n",
        "    \"\"\"\n",
        "    calculate the largest blood type, mean-current_location, \n",
        "    oldest_person_age and average age of a generated 1000 profiles using dictionary\n",
        "    \n",
        "    \"\"\"\n",
        "    no_profiles = 10\n",
        "    profiles = generate_profiles_using_dictionary(no_profiles)\n",
        "    date_today = datetime.date.today()\n",
        "    blood_gp = dict()\n",
        "    max_age = {'age': 0, 'proflie': None}\n",
        "    cur_loc_coord_sum = [0, 0]\n",
        "    sum_ages = 0\n",
        "    for profile in profiles:\n",
        "        \n",
        "        blood_gp[profile['blood_group']] = blood_gp.get(profile['blood_group'],0) + 1\n",
        "        age = (date_today - profile['birthdate']).days\n",
        "        if  age > max_age['age']:\n",
        "            max_age['age'] = age\n",
        "            max_age['profile'] = profile\n",
        "        cur_loc_coord_sum[0] += profile['current_location'][0]\n",
        "        cur_loc_coord_sum[1] += profile['current_location'][1]\n",
        "        sum_ages += int(age/365)\n",
        "    bg_l = max(blood_gp, key=blood_gp.get)\n",
        "    mean_current_location = (cur_loc_coord_sum[0]/no_profiles, cur_loc_coord_sum[1]/no_profiles)\n",
        "    return {'largest_blood_type': (bg_l, blood_gp[bg_l]), 'mean_current_location': mean_current_location, 'oldest_person': (max_age['profile'], int(max_age['age']/365)), 'average_age': int(sum_ages/no_profiles)}"
      ],
      "execution_count": 101,
      "outputs": []
    },
    {
      "cell_type": "code",
      "metadata": {
        "colab": {
          "base_uri": "https://localhost:8080/"
        },
        "id": "vgRhs4g1LLV6",
        "outputId": "5abf4eec-e1df-4e40-b577-c845efd2a67f"
      },
      "source": [
        "calc_data_using_dictionary()"
      ],
      "execution_count": 102,
      "outputs": [
        {
          "output_type": "stream",
          "text": [
            "Run time: 0.021424s\n"
          ],
          "name": "stdout"
        },
        {
          "output_type": "execute_result",
          "data": {
            "text/plain": [
              "{'average_age': 38,\n",
              " 'largest_blood_type': ('A+', 3),\n",
              " 'mean_current_location': (Decimal('-30.86849965'), Decimal('24.3751968')),\n",
              " 'oldest_person': ({'address': '40978 Thomas Oval\\nSouth Davidberg, HI 54038',\n",
              "   'birthdate': datetime.date(1965, 8, 25),\n",
              "   'blood_group': 'A+',\n",
              "   'company': 'Byrd, Rodgers and Day',\n",
              "   'current_location': (Decimal('-47.5821005'), Decimal('66.466220')),\n",
              "   'job': 'Systems developer',\n",
              "   'mail': 'hannahmiller@hotmail.com',\n",
              "   'name': 'David Livingston',\n",
              "   'residence': '7150 Tapia Inlet Suite 566\\nNorth Benjaminberg, NC 55008',\n",
              "   'sex': 'M',\n",
              "   'ssn': '604-87-9789',\n",
              "   'username': 'pittscheryl',\n",
              "   'website': ['https://price-chavez.net/',\n",
              "    'https://villanueva-ross.info/',\n",
              "    'http://davenport.com/',\n",
              "    'https://horton.com/']},\n",
              "  55)}"
            ]
          },
          "metadata": {
            "tags": []
          },
          "execution_count": 102
        }
      ]
    },
    {
      "cell_type": "code",
      "metadata": {
        "id": "X-6CzmtELLuq",
        "colab": {
          "base_uri": "https://localhost:8080/"
        },
        "outputId": "a3a33f04-6727-48e6-a00d-8bbe34578c45"
      },
      "source": [
        "def get_capitalized_letters(string):\n",
        "    \"\"\"Returns joined string if characters are upper case\"\"\"\n",
        "    return ''.join(x for x in string if x.isupper())\n",
        "\n",
        "\n",
        "def stock_market():\n",
        "    \"\"\"\n",
        "    To create a fake stock data set for imaginary stock exchange for top 100 companies (name, symbol, open, high, close).\n",
        "    Tasks_ToDo: Assign a random weight to all the companies. Calculate and show what value stock market started at, what was the highest value during the day and where did it end.\n",
        "    \"\"\"\n",
        "    all_companies = []\n",
        "    Stocks = namedtuple(\"Stocks\", 'name symbol open high close company_weight')\n",
        "    for _ in range(100):\n",
        "        name = fake.company()\n",
        "        open_ = round(random.uniform(41, 3999), 2)\n",
        "        high_num = round(random.uniform(0.613, 1.4), 2)  # market is damn volatile\n",
        "        high = open_ * high_num if high_num > 1.0 else open_\n",
        "        close = random.uniform(open_ - random.randint(-10, 10), high + random.randint(-8, 10))\n",
        "        if close > high:\n",
        "            high = close\n",
        "\n",
        "        all_companies.append(\n",
        "            Stocks(name=name, symbol=get_capitalized_letters(name), open=open_, high=round(high, 2), close=round(close, 2), company_weight=round(random.uniform(15, 80), 3)))\n",
        "\n",
        "    stock_index = round(sum(x.open * x.company_weight for x in all_companies), 4)\n",
        "    highest_for_day = round(max(x.high * x.company_weight for x in all_companies), 2)\n",
        "    lowest_close_for_day = round(min(x.close * x.company_weight for x in all_companies), 2)\n",
        "\n",
        "    print(f\"\\n------------------------------------Top 100 listed companies on TSAI Stock Exchange------------------------------------\")\n",
        "    [print(x) for x in sorted(all_companies, key=lambda x:x.symbol)]\n",
        "    print(f\"\\n--------------Main details on {date.today()}--------------\")\n",
        "    print(f\"\\nStock Index: {stock_index}\")\n",
        "    print(f\"Highest for the day: {highest_for_day}\")\n",
        "    print(f\"Lowest close for the day: {lowest_close_for_day}\")\n",
        "\n",
        "\n",
        "stock_market()"
      ],
      "execution_count": 103,
      "outputs": [
        {
          "output_type": "stream",
          "text": [
            "\n",
            "------------------------------------Top 100 listed companies on TSAI Stock Exchange------------------------------------\n",
            "Stocks(name='Adkins-Kim', symbol='AK', open=994.87, high=1002.15, close=1002.15, company_weight=18.633)\n",
            "Stocks(name='Allen Ltd', symbol='AL', open=3769.88, high=3776.68, close=3776.68, company_weight=57.105)\n",
            "Stocks(name='Ashley-Manning', symbol='AM', open=1478.99, high=1597.31, close=1473.32, company_weight=62.12)\n",
            "Stocks(name='Booker-Burke', symbol='BB', open=3327.59, high=3331.4, close=3331.4, company_weight=26.59)\n",
            "Stocks(name='Barajas-Cruz', symbol='BC', open=3324.65, high=3328.57, close=3328.57, company_weight=46.908)\n",
            "Stocks(name='Blankenship, Castillo and Coleman', symbol='BCC', open=907.88, high=1189.32, close=934.78, company_weight=79.557)\n",
            "Stocks(name='Bell Group', symbol='BG', open=2859.89, high=2859.89, close=2854.77, company_weight=54.608)\n",
            "Stocks(name='Brown, Hall and Stout', symbol='BHS', open=761.64, high=761.64, close=760.87, company_weight=21.617)\n",
            "Stocks(name='Blackburn Inc', symbol='BI', open=3750.08, high=5212.61, close=4144.03, company_weight=21.207)\n",
            "Stocks(name='Bryant Ltd', symbol='BL', open=3460.87, high=3772.35, close=3483.23, company_weight=64.082)\n",
            "Stocks(name='Brown, Leblanc and Rogers', symbol='BLR', open=1302.77, high=1302.77, close=1302.12, company_weight=33.247)\n",
            "Stocks(name='Black-Peterson', symbol='BP', open=3642.56, high=3642.63, close=3642.63, company_weight=63.894)\n",
            "Stocks(name='Berry PLC', symbol='BPLC', open=3398.35, high=4247.94, close=3680.19, company_weight=79.888)\n",
            "Stocks(name='Bush PLC', symbol='BPLC', open=2561.84, high=2568.72, close=2568.72, company_weight=28.697)\n",
            "Stocks(name='Berger PLC', symbol='BPLC', open=1219.86, high=1221.66, close=1221.66, company_weight=66.116)\n",
            "Stocks(name='Burke and Sons', symbol='BS', open=1498.63, high=1633.51, close=1591.43, company_weight=67.665)\n",
            "Stocks(name='Barrett, Stephens and Brooks', symbol='BSB', open=3315.54, high=3912.34, close=3765.51, company_weight=38.19)\n",
            "Stocks(name='Christian Group', symbol='CG', open=3725.36, high=3725.36, close=3718.55, company_weight=71.956)\n",
            "Stocks(name='Conway Inc', symbol='CI', open=216.51, high=218.87, close=218.87, company_weight=42.307)\n",
            "Stocks(name='Caldwell Ltd', symbol='CL', open=195.32, high=244.15, close=241.39, company_weight=30.883)\n",
            "Stocks(name='Cuevas Ltd', symbol='CL', open=645.75, high=749.07, close=655.1, company_weight=47.363)\n",
            "Stocks(name='Carter-Miranda', symbol='CM', open=3070.43, high=3745.92, close=3698.54, company_weight=32.669)\n",
            "Stocks(name='Castaneda, Parker and Miller', symbol='CPM', open=552.17, high=555.74, close=555.74, company_weight=62.364)\n",
            "Stocks(name='Castro and Sons', symbol='CS', open=579.79, high=579.79, close=574.98, company_weight=24.912)\n",
            "Stocks(name='Clark, Tapia and Malone', symbol='CTM', open=1029.13, high=1152.63, close=1097.62, company_weight=39.19)\n",
            "Stocks(name='Diaz-Green', symbol='DG', open=3959.28, high=5186.66, close=5119.4, company_weight=40.15)\n",
            "Stocks(name='Davis Group', symbol='DG', open=3911.13, high=4888.91, close=3933.43, company_weight=52.756)\n",
            "Stocks(name='Duncan-Williams', symbol='DW', open=2621.22, high=2621.22, close=2621.19, company_weight=62.789)\n",
            "Stocks(name='Edwards-Ryan', symbol='ER', open=1708.83, high=1708.83, close=1707.83, company_weight=50.039)\n",
            "Stocks(name='Ferrell Group', symbol='FG', open=3410.66, high=3410.66, close=3402.87, company_weight=75.721)\n",
            "Stocks(name='Frye, Garza and Jensen', symbol='FGJ', open=2459.69, high=2459.69, close=2457.7, company_weight=16.774)\n",
            "Stocks(name='Ferrell, Nelson and Morgan', symbol='FNM', open=2422.96, high=2859.09, close=2684.57, company_weight=75.756)\n",
            "Stocks(name='Flores-Stevens', symbol='FS', open=1320.42, high=1795.77, close=1716.12, company_weight=34.607)\n",
            "Stocks(name='Gonzalez-Gill', symbol='GG', open=1753.73, high=2069.4, close=1780.51, company_weight=22.608)\n",
            "Stocks(name='Gomez-Ingram', symbol='GI', open=2513.31, high=2513.31, close=2511.82, company_weight=35.905)\n",
            "Stocks(name='Gordon LLC', symbol='GLLC', open=1853.68, high=1860.57, close=1860.57, company_weight=27.274)\n",
            "Stocks(name='Galvan-Powers', symbol='GP', open=88.47, high=105.28, close=92.02, company_weight=27.089)\n",
            "Stocks(name='Hancock-Browning', symbol='HB', open=51.73, high=62.08, close=57.16, company_weight=21.424)\n",
            "Stocks(name='Hawkins-Curtis', symbol='HC', open=499.07, high=499.52, close=499.52, company_weight=32.547)\n",
            "Stocks(name='Humphrey-Howard', symbol='HH', open=1201.77, high=1201.77, close=1198.19, company_weight=54.673)\n",
            "Stocks(name='Hill Inc', symbol='HI', open=727.57, high=730.34, close=730.34, company_weight=28.918)\n",
            "Stocks(name='Harrison LLC', symbol='HLLC', open=1957.07, high=1957.07, close=1951.96, company_weight=76.288)\n",
            "Stocks(name='Hart LLC', symbol='HLLC', open=3146.17, high=3146.95, close=3146.95, company_weight=63.14)\n",
            "Stocks(name='Hernandez-Mendez', symbol='HM', open=2375.76, high=3159.76, close=2935.8, company_weight=65.195)\n",
            "Stocks(name='Harris PLC', symbol='HPLC', open=3010.04, high=3013.52, close=3013.52, company_weight=24.917)\n",
            "Stocks(name='Horton PLC', symbol='HPLC', open=1696.85, high=1702.73, close=1702.73, company_weight=57.024)\n",
            "Stocks(name='Hall PLC', symbol='HPLC', open=2143.7, high=2486.69, close=2255.19, company_weight=58.269)\n",
            "Stocks(name='Howard-Scott', symbol='HS', open=3877.2, high=3877.82, close=3877.82, company_weight=33.023)\n",
            "Stocks(name='Jordan-Butler', symbol='JB', open=1028.43, high=1182.69, close=1098.15, company_weight=52.815)\n",
            "Stocks(name='Johnson, Brown and Gomez', symbol='JBG', open=143.83, high=150.36, close=150.36, company_weight=43.757)\n",
            "Stocks(name='Jones-Curry', symbol='JC', open=3229.07, high=3235.04, close=3235.04, company_weight=28.641)\n",
            "Stocks(name='Jones, Hernandez and Adams', symbol='JHA', open=762.01, high=1005.85, close=954.72, company_weight=33.864)\n",
            "Stocks(name='Johnson, Vance and Baker', symbol='JVB', open=955.89, high=962.69, close=962.69, company_weight=33.906)\n",
            "Stocks(name='King-Adams', symbol='KA', open=1932.79, high=1937.56, close=1937.56, company_weight=66.165)\n",
            "Stocks(name='King, Curtis and Savage', symbol='KCS', open=1365.26, high=1761.19, close=1624.97, company_weight=22.333)\n",
            "Stocks(name='King Inc', symbol='KI', open=2874.31, high=2903.05, close=2893.71, company_weight=78.536)\n",
            "Stocks(name='King Inc', symbol='KI', open=3464.34, high=3471.88, close=3471.88, company_weight=60.997)\n",
            "Stocks(name='Klein-Sanchez', symbol='KS', open=3444.01, high=3447.49, close=3447.49, company_weight=49.366)\n",
            "Stocks(name='Lewis, Clark and Jones', symbol='LCJ', open=1910.12, high=1986.52, close=1971.82, company_weight=25.215)\n",
            "Stocks(name='Lawson-Harrington', symbol='LH', open=973.54, high=978.69, close=978.69, company_weight=50.586)\n",
            "Stocks(name='Lynch LLC', symbol='LLLC', open=1052.86, high=1063.39, close=1062.28, company_weight=38.229)\n",
            "Stocks(name='Macias, Crosby and White', symbol='MCW', open=1571.48, high=1573.8, close=1573.8, company_weight=79.959)\n",
            "Stocks(name='Mathis, Herring and Colon', symbol='MHC', open=201.09, high=255.38, close=229.49, company_weight=74.228)\n",
            "Stocks(name='Miller Ltd', symbol='ML', open=494.38, high=500.01, close=500.01, company_weight=16.234)\n",
            "Stocks(name='Matthews PLC', symbol='MPLC', open=3280.5, high=4231.85, close=3352.78, company_weight=40.783)\n",
            "Stocks(name='Morton-Scott', symbol='MS', open=2321.36, high=2325.35, close=2325.35, company_weight=17.758)\n",
            "Stocks(name='Morales and Sons', symbol='MS', open=2861.43, high=2865.6, close=2865.6, company_weight=40.253)\n",
            "Stocks(name='Merritt-Sutton', symbol='MS', open=3545.11, high=3548.66, close=3548.66, company_weight=46.511)\n",
            "Stocks(name='Mullins, Vance and Snyder', symbol='MVS', open=135.34, high=161.05, close=154.93, company_weight=29.609)\n",
            "Stocks(name='Mcdowell-Wilson', symbol='MW', open=3004.99, high=3004.99, close=3002.66, company_weight=51.087)\n",
            "Stocks(name='Nolan-Jordan', symbol='NJ', open=3983.57, high=4342.09, close=4010.91, company_weight=21.027)\n",
            "Stocks(name='Orr and Sons', symbol='OS', open=324.16, high=418.17, close=345.97, company_weight=66.578)\n",
            "Stocks(name='Phillips, Cruz and Campos', symbol='PCC', open=3249.85, high=3672.33, close=3594.91, company_weight=52.918)\n",
            "Stocks(name='Powell, Martinez and Lopez', symbol='PML', open=1459.95, high=1664.34, close=1461.31, company_weight=70.876)\n",
            "Stocks(name='Peterson, Martinez and Phillips', symbol='PMP', open=83.85, high=87.2, close=79.06, company_weight=27.831)\n",
            "Stocks(name='Perry PLC', symbol='PPLC', open=2267.29, high=2289.96, close=2281.84, company_weight=21.526)\n",
            "Stocks(name='Price and Sons', symbol='PS', open=2406.97, high=2411.12, close=2411.12, company_weight=44.743)\n",
            "Stocks(name='Powell and Sons', symbol='PS', open=2201.28, high=2201.28, close=2200.58, company_weight=31.418)\n",
            "Stocks(name='Robinson-Barr', symbol='RB', open=3888.99, high=3888.99, close=3888.3, company_weight=26.36)\n",
            "Stocks(name='Russo Ltd', symbol='RL', open=3024.54, high=3033.54, close=3033.54, company_weight=52.377)\n",
            "Stocks(name='Richard PLC', symbol='RPLC', open=947.74, high=1326.84, close=1101.71, company_weight=65.423)\n",
            "Stocks(name='Ross PLC', symbol='RPLC', open=1583.83, high=1710.54, close=1588.95, company_weight=56.433)\n",
            "Stocks(name='Rogers-Shaw', symbol='RS', open=3854.55, high=3854.55, close=3849.32, company_weight=23.707)\n",
            "Stocks(name='Reyes and Sons', symbol='RS', open=377.51, high=449.24, close=427.43, company_weight=52.523)\n",
            "Stocks(name='Sims-Cortez', symbol='SC', open=1449.27, high=1623.18, close=1526.44, company_weight=41.457)\n",
            "Stocks(name='Smith Inc', symbol='SI', open=364.13, high=364.13, close=363.7, company_weight=66.491)\n",
            "Stocks(name='Smith Inc', symbol='SI', open=3608.06, high=3612.02, close=3612.02, company_weight=36.677)\n",
            "Stocks(name='Shelton LLC', symbol='SLLC', open=509.26, high=636.58, close=554.7, company_weight=59.016)\n",
            "Stocks(name='Smith LLC', symbol='SLLC', open=1515.29, high=1681.97, close=1657.28, company_weight=77.002)\n",
            "Stocks(name='Stevenson, Miller and Fernandez', symbol='SMF', open=2979.38, high=3426.29, close=3026.54, company_weight=15.483)\n",
            "Stocks(name='Schultz, Mora and Harris', symbol='SMH', open=1597.37, high=1601.23, close=1601.23, company_weight=67.501)\n",
            "Stocks(name='Steele and Sons', symbol='SS', open=1896.83, high=2617.63, close=1988.31, company_weight=21.419)\n",
            "Stocks(name='Smith-Winters', symbol='SW', open=3326.14, high=4091.15, close=3938.56, company_weight=36.94)\n",
            "Stocks(name='Thomas-Williams', symbol='TW', open=1519.17, high=1914.15, close=1883.61, company_weight=51.725)\n",
            "Stocks(name='White-Fisher', symbol='WF', open=2094.66, high=2325.07, close=2145.34, company_weight=55.41)\n",
            "Stocks(name='Walter Ltd', symbol='WL', open=3276.98, high=4391.15, close=4074.09, company_weight=63.635)\n",
            "Stocks(name='Walton Ltd', symbol='WL', open=1369.89, high=1726.06, close=1534.04, company_weight=45.753)\n",
            "Stocks(name='Winters, Neal and Wallace', symbol='WNW', open=2317.08, high=2989.03, close=2616.58, company_weight=70.449)\n",
            "Stocks(name='Waters and Sons', symbol='WS', open=3696.15, high=4324.5, close=4194.45, company_weight=75.941)\n",
            "Stocks(name='Young-Thornton', symbol='YT', open=3448.45, high=3451.66, close=3451.66, company_weight=60.218)\n",
            "\n",
            "--------------Main details on 2021-07-09--------------\n",
            "\n",
            "Stock Index: 9714212.0999\n",
            "Highest for the day: 339359.43\n",
            "Lowest close for the day: 1224.6\n"
          ],
          "name": "stdout"
        }
      ]
    },
    {
      "cell_type": "code",
      "metadata": {
        "id": "G5s8og7pLMRK"
      },
      "source": [
        ""
      ],
      "execution_count": null,
      "outputs": []
    },
    {
      "cell_type": "code",
      "metadata": {
        "id": "IIOlTVjgLLTG"
      },
      "source": [
        ""
      ],
      "execution_count": null,
      "outputs": []
    },
    {
      "cell_type": "code",
      "metadata": {
        "id": "gjHlCkMiLLP6"
      },
      "source": [
        ""
      ],
      "execution_count": null,
      "outputs": []
    },
    {
      "cell_type": "code",
      "metadata": {
        "id": "ek9aZ2tMLLJk"
      },
      "source": [
        ""
      ],
      "execution_count": null,
      "outputs": []
    }
  ]
}