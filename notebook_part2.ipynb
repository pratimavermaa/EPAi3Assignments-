{
 "cells": [
  {
   "cell_type": "code",
   "execution_count": 5,
   "metadata": {
    "id": "ovtRgJGWkH32"
   },
   "outputs": [],
   "source": [
    "import math\n",
    "from functools import reduce\n",
    "import random\n",
    "from functools import partial\n",
    "import string\n",
    "import re\n",
    "import urllib\n",
    "import requests"
   ]
  },
  {
   "cell_type": "code",
   "execution_count": 6,
   "metadata": {
    "id": "gXhXd9c8kN_S"
   },
   "outputs": [],
   "source": [
    "# From a pre-stored fibonacci list, a given number has to be checked if it's a fibonacci number\n",
    "\n",
    "fib_list = [0, 1, 1, 2, 3, 5, 8, 13, 21, 34, 55, 89, 144, 233, 377, 610, 987, 1597, 2584, 4181, 6765, 10946]\n",
    "fib_check = lambda x : True if x in fib_list else False\n",
    "\n",
    "\n"
   ]
  },
  {
   "cell_type": "code",
   "execution_count": 7,
   "metadata": {
    "colab": {
     "base_uri": "https://localhost:8080/"
    },
    "id": "s01jNnih3heP",
    "outputId": "7875a127-c3cc-4660-94f0-64bc5d65218a"
   },
   "outputs": [
    {
     "data": {
      "text/plain": [
       "True"
      ]
     },
     "execution_count": 7,
     "metadata": {},
     "output_type": "execute_result"
    }
   ],
   "source": [
    "fib_check(55)"
   ]
  },
  {
   "cell_type": "code",
   "execution_count": 8,
   "metadata": {
    "id": "mEGT68Q7k24o"
   },
   "outputs": [],
   "source": [
    "# From 2 lists, even number from 1st list and odd number from 2nd list should be added...using list comprehension, lambda/filter can also be used\n",
    "def even_odd(l1, l2):\n",
    "    if len(l1) == 0:\n",
    "        raise ValueError('list1 cannot be empty')\n",
    "    if len(l2) == 0:\n",
    "        raise ValueError('list2 cannot be empty')\n",
    "    else:\n",
    "        return[x + y for x, y in zip(l1, l2) if x % 2 ==0 and y % 2 != 0]"
   ]
  },
  {
   "cell_type": "code",
   "execution_count": 9,
   "metadata": {
    "colab": {
     "base_uri": "https://localhost:8080/"
    },
    "id": "mE6VBoFg3tIe",
    "outputId": "007fa477-bb00-40ba-ffa6-5188a92b162b"
   },
   "outputs": [
    {
     "data": {
      "text/plain": [
       "[13, 25, 47]"
      ]
     },
     "execution_count": 9,
     "metadata": {},
     "output_type": "execute_result"
    }
   ],
   "source": [
    "even_odd([2,4,6,9,10,22,33], [12,4,7,16,15,25,26])"
   ]
  },
  {
   "cell_type": "code",
   "execution_count": 10,
   "metadata": {
    "id": "fu_L_6prkVGi"
   },
   "outputs": [],
   "source": [
    "# Vowels should be stripped from a given string using list comprehension\n",
    "def strip_vowel_str(str):\n",
    "    vowels = ['a', 'e', 'i', 'o', 'u']\n",
    "    if len(str) <= 1:\n",
    "        raise ValueError(\"string should have more than one character\")\n",
    "\n",
    "    else:\n",
    "        return \"\".join([x for x in str if x not in vowels])"
   ]
  },
  {
   "cell_type": "code",
   "execution_count": 11,
   "metadata": {
    "colab": {
     "base_uri": "https://localhost:8080/",
     "height": 35
    },
    "id": "NVsM5h2M4IHJ",
    "outputId": "0a905411-aa3d-4011-d7a1-26e5b79b39fe"
   },
   "outputs": [
    {
     "data": {
      "text/plain": [
       "'pythn'"
      ]
     },
     "execution_count": 11,
     "metadata": {},
     "output_type": "execute_result"
    }
   ],
   "source": [
    "strip_vowel_str('python')"
   ]
  },
  {
   "cell_type": "code",
   "execution_count": 12,
   "metadata": {
    "id": "WpTPJaBd2h2S"
   },
   "outputs": [],
   "source": [
    "# RelU function should be defined using list comprehension\n",
    "\n",
    "def relu_activation(l):\n",
    "    if len(l) == 0:\n",
    "        raise ValueError(\"atleast one value must be entered in the list\")\n",
    "    for i in l:\n",
    "        if type(i) not in (int, float):\n",
    "            raise TypeError(\"only ints or floats are allowed\")\n",
    "        else:\n",
    "            pass\n",
    "    else:\n",
    "        return[0 if x < 0 else x for x in l]"
   ]
  },
  {
   "cell_type": "code",
   "execution_count": 13,
   "metadata": {
    "colab": {
     "base_uri": "https://localhost:8080/"
    },
    "id": "FkM1mEz84M1W",
    "outputId": "924fbda7-801e-4b1d-8855-f2fb7e160aa6"
   },
   "outputs": [
    {
     "data": {
      "text/plain": [
       "[0, 0, 0, 0, 1, 2, 3.5]"
      ]
     },
     "execution_count": 13,
     "metadata": {},
     "output_type": "execute_result"
    }
   ],
   "source": [
    "relu_activation([-3, -2, -1, 0, 1, 2, 3.5])"
   ]
  },
  {
   "cell_type": "code",
   "execution_count": 14,
   "metadata": {
    "id": "VfgUPy_a2mlB"
   },
   "outputs": [],
   "source": [
    "# sigmoid function should be defined using list comprehension\n",
    "def sigmoid_activation(l):\n",
    "    if len(l) == 0:\n",
    "        raise ValueError(\"atleast one value must be entered in the list\")\n",
    "    for i in l:\n",
    "        if type(i) not in (int, float):\n",
    "            raise TypeError(\"only ints or floats are allowed\")\n",
    "        else:\n",
    "            pass\n",
    "    else:\n",
    "        return[round(1/(1+math.exp(-x)),2) for x in l]"
   ]
  },
  {
   "cell_type": "code",
   "execution_count": 15,
   "metadata": {
    "colab": {
     "base_uri": "https://localhost:8080/"
    },
    "id": "3dNQrzOo6HLb",
    "outputId": "3fe29a7a-e3a6-449f-ae34-116b80a7a8fd"
   },
   "outputs": [
    {
     "data": {
      "text/plain": [
       "[0.05, 0.12, 0.27, 0.5, 0.73, 0.88, 0.97]"
      ]
     },
     "execution_count": 15,
     "metadata": {},
     "output_type": "execute_result"
    }
   ],
   "source": [
    "sigmoid_activation([-3, -2, -1, 0, 1, 2, 3.5])"
   ]
  },
  {
   "cell_type": "code",
   "execution_count": 16,
   "metadata": {
    "id": "N61caoeS2qL5"
   },
   "outputs": [],
   "source": [
    "# function to shift the characters by 5 places\n",
    "def shift_5_char(str):\n",
    "    if len(str) <= 1:\n",
    "        raise ValueError(\"string should have more than one character\")\n",
    "    else:\n",
    "        str = str.lower()\n",
    "        return \"\".join([chr(ord(x)+5) if (ord(x)+5) <=122 else chr(ord(x)+5-122+96) for x in str])"
   ]
  },
  {
   "cell_type": "code",
   "execution_count": 17,
   "metadata": {
    "colab": {
     "base_uri": "https://localhost:8080/",
     "height": 35
    },
    "id": "Wh15ibUC6NEp",
    "outputId": "1049d8af-bf07-4743-cdac-14e48c488daa"
   },
   "outputs": [
    {
     "data": {
      "text/plain": [
       "'fghij'"
      ]
     },
     "execution_count": 17,
     "metadata": {},
     "output_type": "execute_result"
    }
   ],
   "source": [
    "shift_5_char('abcde')"
   ]
  },
  {
   "cell_type": "code",
   "execution_count": 18,
   "metadata": {
    "id": "ibIQTBx4WAjj"
   },
   "outputs": [],
   "source": [
    "response = requests.get(\"https://raw.githubusercontent.com/RobertJGabriel/Google-profanity-words/master/list.txt\")\n",
    "data = response.text\n",
    "data\n",
    "\n",
    "def profane_filter(str):\n",
    "    if len(str) <= 1:\n",
    "        raise ValueError(\"string should have more than one character\")\n",
    "    else:\n",
    "        return True if str.lower() in data else False"
   ]
  },
  {
   "cell_type": "code",
   "execution_count": 19,
   "metadata": {
    "colab": {
     "base_uri": "https://localhost:8080/"
    },
    "id": "2gGWub5RWvvZ",
    "outputId": "fdf2bf95-c77a-4931-c06a-63a273d16af1"
   },
   "outputs": [
    {
     "data": {
      "text/plain": [
       "True"
      ]
     },
     "execution_count": 19,
     "metadata": {},
     "output_type": "execute_result"
    }
   ],
   "source": [
    "profane_filter('Fuck')"
   ]
  },
  {
   "cell_type": "code",
   "execution_count": 20,
   "metadata": {
    "id": "02aP2d6E2vyi"
   },
   "outputs": [],
   "source": [
    "# Using reduce , lambda etc the even numbers in a list must be added.\n",
    "def add_even_num(l):\n",
    "    if len(l) == 0:\n",
    "        raise ValueError(\"atleast one value must be entered in the list\")\n",
    "    for i in l:\n",
    "        if type(i) != int:\n",
    "            raise TypeError(\"only ints are allowed\")\n",
    "        else:\n",
    "            pass\n",
    "    sum = reduce(lambda a, b: a + b, filter(lambda a: (a % 2 == 0), l))\n",
    "    return sum"
   ]
  },
  {
   "cell_type": "code",
   "execution_count": 21,
   "metadata": {
    "colab": {
     "base_uri": "https://localhost:8080/"
    },
    "id": "tKxon3HP6xxq",
    "outputId": "dde99320-8cc8-4170-ddf7-a175e54a955a"
   },
   "outputs": [
    {
     "data": {
      "text/plain": [
       "30"
      ]
     },
     "execution_count": 21,
     "metadata": {},
     "output_type": "execute_result"
    }
   ],
   "source": [
    "add_even_num([1, 2, 3, 4, 5, 6, 7, 8, 9, 10])"
   ]
  },
  {
   "cell_type": "code",
   "execution_count": 22,
   "metadata": {
    "id": "IZH5z6Rs2yJX"
   },
   "outputs": [],
   "source": [
    "# Using reduce, lambda etc the biggest ascii character in a given string must be found\n",
    "def big_char_str(str):\n",
    "    if len(str) <= 1:\n",
    "        raise ValueError(\"string should have more than one character\")\n",
    "    else:\n",
    "        result = reduce(lambda a, b: a if ord(a) > ord(b) else b, str)\n",
    "        return result"
   ]
  },
  {
   "cell_type": "code",
   "execution_count": 23,
   "metadata": {
    "colab": {
     "base_uri": "https://localhost:8080/",
     "height": 35
    },
    "id": "EspJbtSk651y",
    "outputId": "d3ad8ab6-d3f6-40f1-d818-533c243046a9"
   },
   "outputs": [
    {
     "data": {
      "text/plain": [
       "'o'"
      ]
     },
     "execution_count": 23,
     "metadata": {},
     "output_type": "execute_result"
    }
   ],
   "source": [
    "big_char_str('Welcome')"
   ]
  },
  {
   "cell_type": "code",
   "execution_count": 24,
   "metadata": {
    "id": "ACkZTiEy20wR"
   },
   "outputs": [],
   "source": [
    "# Using reduce, lambda function every third number must be added in a list\n",
    "def add_third_num(l):\n",
    "    if len(l) == 0:\n",
    "        raise ValueError(\"atleast one value must be entered in the list\")\n",
    "    for i in l:\n",
    "        if type(i) != int:\n",
    "            raise TypeError(\"only ints are allowed\")\n",
    "        else:\n",
    "            pass\n",
    "    else:\n",
    "        add_third_number = reduce(lambda a, b: a + b, l[2::3])\n",
    "        return add_third_number"
   ]
  },
  {
   "cell_type": "code",
   "execution_count": 25,
   "metadata": {
    "colab": {
     "base_uri": "https://localhost:8080/"
    },
    "id": "varG1gQX7cr2",
    "outputId": "af2e616c-4006-49b6-9a2e-6d312002ea6c"
   },
   "outputs": [
    {
     "data": {
      "text/plain": [
       "18"
      ]
     },
     "execution_count": 25,
     "metadata": {},
     "output_type": "execute_result"
    }
   ],
   "source": [
    "add_third_num([1, 2, 3, 4, 5, 6, 7, 8, 9])"
   ]
  },
  {
   "cell_type": "code",
   "execution_count": 31,
   "metadata": {
    "id": "rmmEFTR8M6Jc"
   },
   "outputs": [],
   "source": [
    "# Using randint, random.choice and list comprehensions, 15 random KADDAADDDD number plates must be generated, where KA is fixed, D stands for a digit, and A stands for Capital alphabets\n",
    "def num_plate (x= 'KA'):\n",
    "    Alphabet = list(string.ascii_uppercase) \n",
    "    return [x+ str(random.randint(10,99))+str(random.choice(Alphabet))+str(random.choice(Alphabet))+str(random.randint(1000,9999)) for i in range(15)]\n",
    "\n"
   ]
  },
  {
   "cell_type": "code",
   "execution_count": 32,
   "metadata": {
    "colab": {
     "base_uri": "https://localhost:8080/"
    },
    "id": "mrRpCaxxM-Gl",
    "outputId": "6172c1f2-4245-403b-8d65-7e8069243fb2"
   },
   "outputs": [
    {
     "data": {
      "text/plain": [
       "['KA92AS2921',\n",
       " 'KA20QP7158',\n",
       " 'KA58EX8982',\n",
       " 'KA84TH6504',\n",
       " 'KA68GO2190',\n",
       " 'KA95BV7330',\n",
       " 'KA67HD2961',\n",
       " 'KA92CE9245',\n",
       " 'KA65YK4525',\n",
       " 'KA82NO4410',\n",
       " 'KA48XM2996',\n",
       " 'KA22VL1057',\n",
       " 'KA72BQ7863',\n",
       " 'KA12YO8742',\n",
       " 'KA95PV3950']"
      ]
     },
     "execution_count": 32,
     "metadata": {},
     "output_type": "execute_result"
    }
   ],
   "source": [
    "num_plate()"
   ]
  },
  {
   "cell_type": "code",
   "execution_count": 33,
   "metadata": {
    "colab": {
     "base_uri": "https://localhost:8080/"
    },
    "id": "mGvk4QpwNP60",
    "outputId": "c33bbe5e-d858-4106-ecd5-d53187446dbd"
   },
   "outputs": [
    {
     "data": {
      "text/plain": [
       "['DL38EB5693',\n",
       " 'DL67KX3103',\n",
       " 'DL23PS7665',\n",
       " 'DL19JZ3420',\n",
       " 'DL85YP7458',\n",
       " 'DL66SH8977',\n",
       " 'DL83PP7638',\n",
       " 'DL11JM3303',\n",
       " 'DL62KO9992',\n",
       " 'DL58SF5107',\n",
       " 'DL60QD8606',\n",
       " 'DL72ZN1294',\n",
       " 'DL77TU3107',\n",
       " 'DL43GK2299',\n",
       " 'DL24GK7189']"
      ]
     },
     "execution_count": 33,
     "metadata": {},
     "output_type": "execute_result"
    }
   ],
   "source": [
    "# Using the above, we write a partial function such that 1000/9999 are hardcoded, but KA can be provided\n",
    "from functools import partial\n",
    "new_plate = partial(num_plate)\n",
    "\n",
    "new_plate(\"DL\")"
   ]
  },
  {
   "cell_type": "code",
   "execution_count": 34,
   "metadata": {
    "colab": {
     "base_uri": "https://localhost:8080/"
    },
    "id": "sXTPKEzpXMmw",
    "outputId": "f07e3256-0587-412f-8ecd-237ea6c46d53"
   },
   "outputs": [
    {
     "data": {
      "text/plain": [
       "['AP78ZK5918',\n",
       " 'AP76OI8046',\n",
       " 'AP37YL4019',\n",
       " 'AP71CM5897',\n",
       " 'AP58DP9821',\n",
       " 'AP61LV8406',\n",
       " 'AP38KK5685',\n",
       " 'AP25BI2632',\n",
       " 'AP82ZY8979',\n",
       " 'AP56TF9444',\n",
       " 'AP32XN5584',\n",
       " 'AP94PM5530',\n",
       " 'AP58AA5050',\n",
       " 'AP53CE7764',\n",
       " 'AP92CR7665']"
      ]
     },
     "execution_count": 34,
     "metadata": {},
     "output_type": "execute_result"
    }
   ],
   "source": [
    "new_plate(\"AP\")"
   ]
  }
 ],
 "metadata": {
  "colab": {
   "collapsed_sections": [],
   "name": "part2.ipynb",
   "provenance": []
  },
  "kernelspec": {
   "display_name": "Python 3",
   "language": "python",
   "name": "python3"
  },
  "language_info": {
   "codemirror_mode": {
    "name": "ipython",
    "version": 3
   },
   "file_extension": ".py",
   "mimetype": "text/x-python",
   "name": "python",
   "nbconvert_exporter": "python",
   "pygments_lexer": "ipython3",
   "version": "3.8.5"
  }
 },
 "nbformat": 4,
 "nbformat_minor": 1
}
