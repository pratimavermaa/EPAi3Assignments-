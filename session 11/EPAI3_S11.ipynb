{
  "nbformat": 4,
  "nbformat_minor": 0,
  "metadata": {
    "colab": {
      "name": "EPAI3_S11.ipynb",
      "provenance": []
    },
    "kernelspec": {
      "name": "python3",
      "display_name": "Python 3"
    },
    "language_info": {
      "name": "python"
    }
  },
  "cells": [
    {
      "cell_type": "code",
      "metadata": {
        "id": "nuQw_opUMB3k"
      },
      "source": [
        "import math\n",
        "from functools import lru_cache\n",
        "class Polygon:\n",
        "    def __init__(self, n, R):\n",
        "        if n < 3:\n",
        "            raise ValueError('Polygon must have at least 3 vertices.')\n",
        "        self._n = n\n",
        "        self._R = R\n",
        "        \n",
        "    def __repr__(self):\n",
        "        return f'Polygon(n={self._n}, R={self._R})'\n",
        "    \n",
        "    @property\n",
        "    def count_vertices(self):\n",
        "        return self._n\n",
        "    \n",
        "    @property\n",
        "    def count_edges(self):\n",
        "        return self._n\n",
        "    \n",
        "    @property\n",
        "    def circumradius(self):\n",
        "        return self._R\n",
        "    \n",
        "    @property\n",
        "    def interior_angle(self):\n",
        "        return (self._n - 2) * 180 / self._n\n",
        "\n",
        "    @property\n",
        "    def side_length(self):\n",
        "        return 2 * self._R * math.sin(math.pi / self._n)\n",
        "    \n",
        "    @property\n",
        "    def apothem(self):\n",
        "        return self._R * math.cos(math.pi / self._n)\n",
        "    \n",
        "    @property\n",
        "    def area(self):\n",
        "        return self._n / 2 * self.side_length * self.apothem\n",
        "    \n",
        "    @property\n",
        "    def perimeter(self):\n",
        "        return self._n * self.side_length\n",
        "    \n",
        "    def __eq__(self, other):\n",
        "        if isinstance(other, self.__class__):\n",
        "            return (self.count_edges == other.count_edges \n",
        "                    and self.circumradius == other.circumradius)\n",
        "        else:\n",
        "            return NotImplemented\n",
        "        \n",
        "    def __gt__(self, other):\n",
        "        if isinstance(other, self.__class__):\n",
        "            return self.count_vertices > other.count_vertices\n",
        "        else:\n",
        "            return NotImplemented"
      ],
      "execution_count": 1,
      "outputs": []
    },
    {
      "cell_type": "code",
      "metadata": {
        "id": "Dcduy-xoMREX"
      },
      "source": [
        "class Polygons:\n",
        "    def __init__(self, m, R):\n",
        "        if m < 3:\n",
        "            raise ValueError('m must be greater than 3')\n",
        "        self._m = m\n",
        "        self._R = R\n",
        "        self._polygons = [Polygon(i, R) for i in range(3, m+1)]\n",
        "        \n",
        "    def __len__(self):\n",
        "        return self._m - 2\n",
        "    \n",
        "    def __repr__(self):\n",
        "        return f'Polygons(m={self._m}, R={self._R})'\n",
        "    \n",
        "    def __getitem__(self, s):\n",
        "        return self._polygons[s]\n",
        "    \n",
        "    def __iter__(self):\n",
        "        return self.PolygonIterator(self)\n",
        "    \n",
        "    @property\n",
        "    def max_efficiency_polygon(self):\n",
        "        sorted_polygons = sorted(self._polygons, \n",
        "                                 key=lambda p: p.area/p.perimeter,\n",
        "                                reverse=True)\n",
        "        return sorted_polygons[0]\n",
        "    \n",
        "    class PolygonIterator:\n",
        "        def __init__(self, poly_obj):\n",
        "            self._poly_obj = poly_obj\n",
        "            self._index = 0\n",
        "            \n",
        "        def __iter__(self):\n",
        "            return self\n",
        "        \n",
        "        \n",
        "        def __next__(self):\n",
        "            if self._index >= len(self._poly_obj):\n",
        "                raise StopIteration\n",
        "            else:\n",
        "                item = self._poly_obj._polygons[self._index]\n",
        "                self._index += 1\n",
        "                return item"
      ],
      "execution_count": 2,
      "outputs": []
    },
    {
      "cell_type": "code",
      "metadata": {
        "id": "dg5uTAdBMZKE"
      },
      "source": [
        "p = Polygons(6, 6)"
      ],
      "execution_count": 3,
      "outputs": []
    },
    {
      "cell_type": "code",
      "metadata": {
        "id": "wXeHPGajMev-"
      },
      "source": [
        "iter_1 = [i for i in p]"
      ],
      "execution_count": 4,
      "outputs": []
    },
    {
      "cell_type": "code",
      "metadata": {
        "colab": {
          "base_uri": "https://localhost:8080/"
        },
        "id": "WvvlWrxsM4dp",
        "outputId": "870727ee-690f-4fa8-d488-e6e217607bd5"
      },
      "source": [
        "next(iter(iter_1))"
      ],
      "execution_count": 5,
      "outputs": [
        {
          "output_type": "execute_result",
          "data": {
            "text/plain": [
              "Polygon(n=3, R=6)"
            ]
          },
          "metadata": {
            "tags": []
          },
          "execution_count": 5
        }
      ]
    },
    {
      "cell_type": "code",
      "metadata": {
        "colab": {
          "base_uri": "https://localhost:8080/"
        },
        "id": "CcXvh8UmM8wX",
        "outputId": "1889bea6-1282-4efd-ee61-fedab2f091a9"
      },
      "source": [
        "type(iter_1)"
      ],
      "execution_count": 6,
      "outputs": [
        {
          "output_type": "execute_result",
          "data": {
            "text/plain": [
              "list"
            ]
          },
          "metadata": {
            "tags": []
          },
          "execution_count": 6
        }
      ]
    },
    {
      "cell_type": "code",
      "metadata": {
        "id": "fTxbGzREOIuA"
      },
      "source": [
        "iter_1 = iter(iter_1)"
      ],
      "execution_count": 7,
      "outputs": []
    },
    {
      "cell_type": "code",
      "metadata": {
        "colab": {
          "base_uri": "https://localhost:8080/"
        },
        "id": "bNkNIF5BOxNm",
        "outputId": "303feb08-08c9-4855-fc8b-ffa54adb4c07"
      },
      "source": [
        "next(iter_1)"
      ],
      "execution_count": 8,
      "outputs": [
        {
          "output_type": "execute_result",
          "data": {
            "text/plain": [
              "Polygon(n=3, R=6)"
            ]
          },
          "metadata": {
            "tags": []
          },
          "execution_count": 8
        }
      ]
    },
    {
      "cell_type": "code",
      "metadata": {
        "colab": {
          "base_uri": "https://localhost:8080/"
        },
        "id": "BLzFIzD0TI1c",
        "outputId": "d00326b7-b5e9-4aff-a512-d2c3ac2b0351"
      },
      "source": [
        "next(iter_1)"
      ],
      "execution_count": 9,
      "outputs": [
        {
          "output_type": "execute_result",
          "data": {
            "text/plain": [
              "Polygon(n=4, R=6)"
            ]
          },
          "metadata": {
            "tags": []
          },
          "execution_count": 9
        }
      ]
    },
    {
      "cell_type": "code",
      "metadata": {
        "colab": {
          "base_uri": "https://localhost:8080/"
        },
        "id": "qCW7mkjCTJ8H",
        "outputId": "aa412107-79cf-46f9-dd73-bf031f708b0e"
      },
      "source": [
        "next(iter_1)"
      ],
      "execution_count": 10,
      "outputs": [
        {
          "output_type": "execute_result",
          "data": {
            "text/plain": [
              "Polygon(n=5, R=6)"
            ]
          },
          "metadata": {
            "tags": []
          },
          "execution_count": 10
        }
      ]
    },
    {
      "cell_type": "code",
      "metadata": {
        "id": "bLVQbrNLTLGj",
        "outputId": "cc1f7adf-6b06-480f-a163-a0136d258822",
        "colab": {
          "base_uri": "https://localhost:8080/"
        }
      },
      "source": [
        "next(iter_1)"
      ],
      "execution_count": 11,
      "outputs": [
        {
          "output_type": "execute_result",
          "data": {
            "text/plain": [
              "Polygon(n=6, R=6)"
            ]
          },
          "metadata": {
            "tags": []
          },
          "execution_count": 11
        }
      ]
    },
    {
      "cell_type": "code",
      "metadata": {
        "id": "y0rqARCZTMOG",
        "outputId": "b1bde3f7-edd4-4df3-c04e-f411f2200015",
        "colab": {
          "base_uri": "https://localhost:8080/",
          "height": 163
        }
      },
      "source": [
        "next(iter_1)"
      ],
      "execution_count": 12,
      "outputs": [
        {
          "output_type": "error",
          "ename": "StopIteration",
          "evalue": "ignored",
          "traceback": [
            "\u001b[0;31m---------------------------------------------------------------------------\u001b[0m",
            "\u001b[0;31mStopIteration\u001b[0m                             Traceback (most recent call last)",
            "\u001b[0;32m<ipython-input-12-ab70f2957758>\u001b[0m in \u001b[0;36m<module>\u001b[0;34m()\u001b[0m\n\u001b[0;32m----> 1\u001b[0;31m \u001b[0mnext\u001b[0m\u001b[0;34m(\u001b[0m\u001b[0miter_1\u001b[0m\u001b[0;34m)\u001b[0m\u001b[0;34m\u001b[0m\u001b[0;34m\u001b[0m\u001b[0m\n\u001b[0m",
            "\u001b[0;31mStopIteration\u001b[0m: "
          ]
        }
      ]
    }
  ]
}